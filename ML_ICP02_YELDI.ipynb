{
  "nbformat": 4,
  "nbformat_minor": 0,
  "metadata": {
    "colab": {
      "provenance": []
    },
    "kernelspec": {
      "name": "python3",
      "display_name": "Python 3"
    },
    "language_info": {
      "name": "python"
    }
  },
  "cells": [
    {
      "cell_type": "markdown",
      "source": [
        "**1. Use a python code to display the following star pattern using the for loop.**"
      ],
      "metadata": {
        "id": "3at15dKov0IB"
      }
    },
    {
      "cell_type": "code",
      "source": [
        "# Increasing star pattern\n",
        "for i in range(1, 5):\n",
        "# Using string repetition operator\n",
        "    print(i * '* ')\n",
        "\n",
        "# Decreasing star pattern\n",
        "for i in range(5, 0, -1): # -1 in for loop is the difference between consecutive iterator values\n",
        "    print(i * '* ')\n"
      ],
      "metadata": {
        "colab": {
          "base_uri": "https://localhost:8080/"
        },
        "id": "YH1XL8Odv473",
        "outputId": "f6b4a7bf-d455-495b-c27e-ad6d618ce473"
      },
      "execution_count": null,
      "outputs": [
        {
          "output_type": "stream",
          "name": "stdout",
          "text": [
            "* \n",
            "* * \n",
            "* * * \n",
            "* * * * \n",
            "* * * * * \n",
            "* * * * \n",
            "* * * \n",
            "* * \n",
            "* \n"
          ]
        }
      ]
    },
    {
      "cell_type": "markdown",
      "source": [
        "**2. Use looping to output the elements from a provided list present at odd indexes.**\n",
        "\n",
        " **my_list = [10, 20, 30, 40, 50, 60, 70, 80, 90, 100]**"
      ],
      "metadata": {
        "id": "W48O6jiAxghi"
      }
    },
    {
      "cell_type": "code",
      "source": [
        "my_list = [10, 20, 30, 40, 50, 60, 70, 80, 90, 100]\n",
        "\n",
        "# Looping through the list using the range function with a step of 2, starting from index 1\n",
        "for i in range(1, len(my_list), 2):\n",
        "    print(my_list[i])"
      ],
      "metadata": {
        "colab": {
          "base_uri": "https://localhost:8080/"
        },
        "id": "5SCzsBmWxf98",
        "outputId": "6eecda04-93ca-4475-8cee-623b8da6cc57"
      },
      "execution_count": null,
      "outputs": [
        {
          "output_type": "stream",
          "name": "stdout",
          "text": [
            "20\n",
            "40\n",
            "60\n",
            "80\n",
            "100\n"
          ]
        }
      ]
    },
    {
      "cell_type": "markdown",
      "source": [
        "**3.Write a code that appends the type of elements from a given list.**\n",
        "\n",
        "**Input**\n",
        "\n",
        "**x = [23, ‘Python’, 23.98]**\n",
        "\n",
        "**Expected output**\n",
        "\n",
        "**[23, 'Python', 23.98]**\n",
        "\n",
        "**[<class 'int'>, <class 'str'>, <class 'float'>]**"
      ],
      "metadata": {
        "id": "yK9igy3XzJsc"
      }
    },
    {
      "cell_type": "code",
      "source": [
        "x = [23, 'Python', 23.98] # The line creating the list named x\n",
        "output = [type(i) for i in x] # To give the output for the x types\n",
        "print(x)\n",
        "print(output)"
      ],
      "metadata": {
        "colab": {
          "base_uri": "https://localhost:8080/"
        },
        "id": "P33wRJW9xE5w",
        "outputId": "3dfa0da4-d3c9-4d34-c0be-ed6150daa4ba"
      },
      "execution_count": null,
      "outputs": [
        {
          "output_type": "stream",
          "name": "stdout",
          "text": [
            "[23, 'Python', 23.98]\n",
            "[<class 'int'>, <class 'str'>, <class 'float'>]\n"
          ]
        }
      ]
    },
    {
      "cell_type": "markdown",
      "source": [
        "**4. Write a function that takes a list and returns a new list with unique items of the first list.**\n",
        "\n",
        "**Sample List: [1,2,3,3,3,3,4,5]**\n",
        "\n",
        "**Unique List: [1, 2, 3, 4, 5]**"
      ],
      "metadata": {
        "id": "3mhx7xyWzQPO"
      }
    },
    {
      "cell_type": "code",
      "source": [
        "def get_unique_items(data_list): # This function takes a list and returns a new list with unique items.\n",
        "                                 # data_list: The list to remove duplicates from.\n",
        "                                 # A new list containing only the unique items from the input list.\n",
        "  unique_list = []\n",
        "  for item in data_list:\n",
        "    if item not in unique_list:\n",
        "      unique_list.append(item)\n",
        "  return unique_list\n",
        "\n",
        "# Sample list\n",
        "sample_list = [1, 2, 3, 3, 3, 3, 4, 5]\n",
        "\n",
        "# Get the unique list\n",
        "unique_list = get_unique_items(sample_list)\n",
        "\n",
        "# Print the unique list\n",
        "print(unique_list)\n"
      ],
      "metadata": {
        "colab": {
          "base_uri": "https://localhost:8080/"
        },
        "id": "_uUBtDPi04NF",
        "outputId": "acff92b4-552a-449f-ea3e-4304f42df534"
      },
      "execution_count": null,
      "outputs": [
        {
          "output_type": "stream",
          "name": "stdout",
          "text": [
            "[1, 2, 3, 4, 5]\n"
          ]
        }
      ]
    },
    {
      "cell_type": "markdown",
      "source": [
        "**5. Write a function that accepts a string and calculate the number of upper-case letters and lower-case letters.**\n",
        "\n",
        "**Input String: 'The quick Brow Fox'**\n",
        "\n",
        "**Expected Output:**\n",
        "\n",
        "**No. of Upper-case characters: 3**\n",
        "\n",
        "**No. of Lower-case Characters: 12**"
      ],
      "metadata": {
        "id": "OCPJgeP94apg"
      }
    },
    {
      "cell_type": "code",
      "source": [
        "def count(input_string):\n",
        "# list comprehension and sum method is used to calculate the count\n",
        " print('No. of Upper-case Characters:', sum(1 for c in input_string if c.isupper()))\n",
        " print('No. of Lower-case Characters:', sum(1 for c in input_string if c.islower()))\n",
        "\n",
        "# Assigning the string\n",
        "input_string = 'The quick Brow Fox'\n",
        "count(input_string)"
      ],
      "metadata": {
        "colab": {
          "base_uri": "https://localhost:8080/"
        },
        "id": "UU-UTEKR46DP",
        "outputId": "6c191fc9-d626-49c6-c4c0-91f3aa3083e7"
      },
      "execution_count": null,
      "outputs": [
        {
          "output_type": "stream",
          "name": "stdout",
          "text": [
            "No. of Upper-case Characters: 3\n",
            "No. of Lower-case Characters: 12\n"
          ]
        }
      ]
    }
  ]
}