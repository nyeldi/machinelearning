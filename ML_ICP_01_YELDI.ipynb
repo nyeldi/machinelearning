{
  "nbformat": 4,
  "nbformat_minor": 0,
  "metadata": {
    "colab": {
      "provenance": [],
      "authorship_tag": "ABX9TyNy33j2RKbt7hj+ryWUkl87",
      "include_colab_link": true
    },
    "kernelspec": {
      "name": "python3",
      "display_name": "Python 3"
    },
    "language_info": {
      "name": "python"
    }
  },
  "cells": [
    {
      "cell_type": "markdown",
      "metadata": {
        "id": "view-in-github",
        "colab_type": "text"
      },
      "source": [
        "<a href=\"https://colab.research.google.com/github/nyeldi/machinelearning/blob/main/ML_ICP_01_YELDI.ipynb\" target=\"_parent\"><img src=\"https://colab.research.google.com/assets/colab-badge.svg\" alt=\"Open In Colab\"/></a>"
      ]
    },
    {
      "cell_type": "markdown",
      "source": [
        "Question 1\n",
        "\n",
        "The following is a list of 10 students ages:\n",
        "ages = [19, 22, 19, 24, 20, 25, 26, 24, 25, 24]\n",
        "\n",
        "• Sort the list and find the min and max age\n",
        "\n",
        "• Add the min age and the max age again to the list\n",
        "\n",
        "• Find the median age (one middle item or two middle items divided by two)\n",
        "\n",
        "• Find the average age (sum of all items divided by their number)\n",
        "\n",
        "• Find the range of the ages (max minus min)"
      ],
      "metadata": {
        "id": "hJ9RdIAlxj0C"
      }
    },
    {
      "cell_type": "code",
      "source": [
        "# Initial list of ages\n",
        "ages = [19, 22, 19, 24, 20, 25, 26, 24, 25, 24]\n",
        "\n",
        "# Sort the list and find the min and max age\n",
        "ages_sorted = sorted(ages) #sorts the list of ages in ascending order\n",
        "min_age = ages_sorted[0] #the first element in sorted list\n",
        "max_age = ages_sorted[-1] #the last element in sorted list\n",
        "\n",
        "# Add the min age and the max age again to the list\n",
        "ages.append(min_age) #adds the minimum age\n",
        "ages.append(max_age) #adds the maximum age\n",
        "\n",
        "# Find the median age (one middle item or two middle items divided by two)\n",
        "ages_sorted = sorted(ages) #sorts the updated list again\n",
        "n = len(ages_sorted) #gets the no. of elements in sorted list\n",
        "if n % 2 == 0: #checks if the no. of elements is even\n",
        "    median_age = (ages_sorted[n // 2 - 1] + ages_sorted[n // 2]) / 2\n",
        "else: #if the elements are odd\n",
        "    median_age = ages_sorted[n // 2]\n",
        "\n",
        "# Find the average age (sum of all items divided by their number)\n",
        "average_age = sum(ages) / len(ages)\n",
        "\n",
        "# Find the range of the ages (max minus min)\n",
        "age_range = max_age - min_age #subtract the min age from max age\n",
        "\n",
        "# Print the results of the given list\n",
        "print(\"Sorted List:\", ages_sorted)\n",
        "print(\"Minimum Age:\", min_age)\n",
        "print(\"Maximum Age:\", max_age)\n",
        "print(\"Median Age:\", median_age)\n",
        "print(\"Average Age:\", average_age)\n",
        "print(\"Range of Ages:\", age_range)\n"
      ],
      "metadata": {
        "colab": {
          "base_uri": "https://localhost:8080/"
        },
        "id": "cqxuaI_h1Ns1",
        "outputId": "dfc2c756-5168-4dc4-a06f-758332038abf"
      },
      "execution_count": 12,
      "outputs": [
        {
          "output_type": "stream",
          "name": "stdout",
          "text": [
            "Sorted List: [19, 19, 19, 20, 22, 24, 24, 24, 25, 25, 26, 26]\n",
            "Minimum Age: 19\n",
            "Maximum Age: 26\n",
            "Median Age: 24.0\n",
            "Average Age: 22.75\n",
            "Range of Ages: 7\n"
          ]
        }
      ]
    },
    {
      "cell_type": "markdown",
      "source": [
        "Question 2\n",
        "\n",
        "• Create an empty dictionary called dog\n",
        "\n",
        "• Add name, color, breed, legs, age to the dog dictionary\n",
        "\n",
        "• Create a student dictionary and add first_name, last_name, gender, age, marital status,skills, country, city and address as keys for the dictionary\n",
        "\n",
        "• Get the length of the student dictionary\n",
        "\n",
        "• Get the value of skills and check the data type, it should be a list\n",
        "\n",
        "• Modify the skills values by adding one or two skills\n",
        "\n",
        "• Get the dictionary keys as a list\n",
        "\n",
        "• Get the dictionary values as a list"
      ],
      "metadata": {
        "id": "MI1qrncU5LYv"
      }
    },
    {
      "cell_type": "code",
      "source": [
        "# Creating an empty dictionary called dog\n",
        "dog = {}\n",
        "\n",
        "# Adding name, color, breed, legs, age to the dog dictionary\n",
        "dog['name'] = 'Bruno'\n",
        "dog['color'] = 'Brown'\n",
        "dog['breed'] = 'Shihtzu'\n",
        "dog['legs'] = 4\n",
        "dog['age'] = 3\n",
        "\n",
        "# Creating a student dictionary and adding specified keys\n",
        "student = {\n",
        "    'first_name': 'NIKITHA',\n",
        "    'last_name': 'YELDI',\n",
        "    'gender': 'Female',\n",
        "    'age': 23,\n",
        "    'marital_status': 'Single',\n",
        "    'skills': ['Python', 'Java'],\n",
        "    'country': 'India',\n",
        "    'city': 'Bangalore',\n",
        "    'address': '1234 ABC Street'\n",
        "}\n",
        "\n",
        "# Getting the length of the student dictionary\n",
        "student_length = len(student)\n",
        "print(\"Length of the student dictionary:\", student_length)\n",
        "\n",
        "# Getting the value of skills and check the data type\n",
        "skills = student['skills']\n",
        "print(\"Value of skills:\", skills)\n",
        "print(\"Data type of skills:\", type(skills))\n",
        "\n",
        "# Modifying the skills values by adding one or two skills\n",
        "student['skills'].extend(['ReactJs', 'JavaScript'])\n",
        "print(\"Updated skills:\", student['skills'])\n",
        "\n",
        "# Getting the dictionary keys as a list\n",
        "student_keys = list(student.keys())\n",
        "print(\"Keys of the student dictionary:\", student_keys)\n",
        "\n",
        "# Getting the dictionary values as a list\n",
        "student_values = list(student.values())\n",
        "print(\"Values of the student dictionary:\", student_values)\n"
      ],
      "metadata": {
        "colab": {
          "base_uri": "https://localhost:8080/"
        },
        "id": "CST1LxUQ5Yb1",
        "outputId": "2acf3bdb-50bc-40c9-acae-fb9ab1dab781"
      },
      "execution_count": 13,
      "outputs": [
        {
          "output_type": "stream",
          "name": "stdout",
          "text": [
            "Length of the student dictionary: 9\n",
            "Value of skills: ['Python', 'Java']\n",
            "Data type of skills: <class 'list'>\n",
            "Updated skills: ['Python', 'Java', 'ReactJs', 'JavaScript']\n",
            "Keys of the student dictionary: ['first_name', 'last_name', 'gender', 'age', 'marital_status', 'skills', 'country', 'city', 'address']\n",
            "Values of the student dictionary: ['NIKITHA', 'YELDI', 'Female', 23, 'Single', ['Python', 'Java', 'ReactJs', 'JavaScript'], 'India', 'Bangalore', '1234 ABC Street']\n"
          ]
        }
      ]
    },
    {
      "cell_type": "markdown",
      "source": [
        "Question 3\n",
        "\n",
        "• Create a tuple containing names of your sisters and your brothers (imaginary siblings are\n",
        "fine)\n",
        "\n",
        "• Join brothers and sisters tuples and assign it to siblings\n",
        "\n",
        "• How many siblings do you have?\n",
        "\n",
        "• Modify the siblings tuple and add the name of your father and mother and assign it to family_members"
      ],
      "metadata": {
        "id": "HMuQZKRX8idb"
      }
    },
    {
      "cell_type": "code",
      "source": [
        "# Define tuples containing names of imaginary siblings\n",
        "brothers = ('SAI', 'SRUJAN')\n",
        "sisters = ('SAMSKRUTHI', 'ASHRITHA')\n",
        "\n",
        "# Join brothers and sisters tuples\n",
        "siblings = brothers + sisters\n",
        "\n",
        "# Count the number of siblings\n",
        "num_siblings = len(siblings)\n",
        "\n",
        "# Modify the siblings tuple to add the names of imaginary parents\n",
        "father = 'SRINIVASA RAO YELDI'\n",
        "mother = 'SUDHA RANI YELDI'\n",
        "family_members = (father, mother) + siblings\n",
        "\n",
        "# Print the results\n",
        "print(f\"Number of siblings: {len(siblings)}\")\n",
        "print(siblings)\n",
        "print(\"type: \",type(family_members))\n",
        "print(\"Family Members: \",family_members)\n"
      ],
      "metadata": {
        "colab": {
          "base_uri": "https://localhost:8080/"
        },
        "id": "_AVrjTf982g3",
        "outputId": "9c3f4480-6c53-4a2b-9e82-016bcc8702fa"
      },
      "execution_count": 31,
      "outputs": [
        {
          "output_type": "stream",
          "name": "stdout",
          "text": [
            "Number of siblings: 4\n",
            "('SAI', 'SRUJAN', 'SAMSKRUTHI', 'ASHRITHA')\n",
            "type:  <class 'tuple'>\n",
            "Family Members:  ('SRINIVASA RAO YELDI', 'SUDHA RANI YELDI', 'SAI', 'SRUJAN', 'SAMSKRUTHI', 'ASHRITHA')\n"
          ]
        }
      ]
    },
    {
      "cell_type": "markdown",
      "source": [
        "Question 4\n",
        "\n",
        "it_companies = {'Facebook', 'Google', 'Microsoft', 'Apple', 'IBM', 'Oracle', 'Amazon'}\n",
        "\n",
        "A = {19, 22, 24, 20, 25, 26}\n",
        "\n",
        "B = {19, 22, 20, 25, 26, 24, 28, 27}\n",
        "\n",
        "age = [22, 19, 24, 25, 26, 24, 25, 24]\n",
        "\n",
        "• Find the length of the set it_companies\n",
        "\n",
        "• Add 'Twitter' to it_companies\n",
        "\n",
        "• Insert multiple IT companies at once to the set it_companies\n",
        "\n",
        "• Remove one of the companies from the set it_companies\n",
        "\n",
        "• What is the difference between remove and discard\n",
        "\n",
        "• Join A and B\n",
        "\n",
        "• Find A intersection B\n",
        "\n",
        "• Is A subset of B\n",
        "\n",
        "• Are A and B disjoint sets\n",
        "\n",
        "• Join A with B and B with A\n",
        "\n",
        "• What is the symmetric difference between A and B\n",
        "\n",
        "• Delete the sets completely\n",
        "\n",
        "• Convert the ages to a set and compare the length of the list and the set."
      ],
      "metadata": {
        "id": "-PHL4yE5_wgz"
      }
    },
    {
      "cell_type": "code",
      "source": [
        "it_companies = {'Facebook', 'Google', 'Microsoft', 'Apple', 'IBM', 'Oracle', 'Amazon'}\n",
        "A = {19, 22, 24, 20, 25, 26}\n",
        "B = {19, 22, 20, 25, 26, 24, 28, 27}\n",
        "age = [22, 19, 24, 25, 26, 24, 25, 24]\n",
        "\n",
        "# Finding the length of the set it_companies\n",
        "print(\"Length of it_companies:\", len(it_companies))\n",
        "\n",
        "# Adding 'Twitter' to it_companies\n",
        "it_companies.add('Twitter')\n",
        "\n",
        "# Insert multiple IT companies at once to the set it_companies\n",
        "it_companies.update(['TCS', 'HARMAN', 'Accenture', 'Wipro'])\n",
        "\n",
        "# Remove one of the companies from the set it_companies\n",
        "it_companies.remove('HARMAN')\n",
        "\n",
        "# What is the difference between remove and discard\n",
        "print(f\"Remove will raise an error if the element is not present, while discard won't raise any error.\")\n",
        "\n",
        "# Joining A and B\n",
        "join_set = A.union(B)\n",
        "print(\"Union of A and B:\", join_set)\n",
        "\n",
        "# Finding A intersection B\n",
        "intersection_set = A.intersection(B)\n",
        "print(\"Intersection of A and B:\", intersection_set)\n",
        "\n",
        "# Is A subset of B\n",
        "print(\"Is A a subset of B?\", A.issubset(B))\n",
        "\n",
        "# Are A and B disjoint sets\n",
        "print(\"Are A and B disjoint sets?\", A.isdisjoint(B))\n",
        "\n",
        "# Joining A with B and B with A\n",
        "print(\"Join A with B:\", A.union(B))\n",
        "print(\"Join B with A:\", B.union(A))\n",
        "\n",
        "# What is the symmetric difference between A and B\n",
        "symmetric_difference = A.symmetric_difference(B)\n",
        "print(\"Symmetric difference between A and B:\", symmetric_difference)\n",
        "\n",
        "# Delete the sets completely\n",
        "del it_companies\n",
        "del A\n",
        "del B\n",
        "\n",
        "# Converting the ages to a set and compare the length of the list and the set\n",
        "age_set = set(age)\n",
        "print(\"Length of age list:\", len(age))\n",
        "print(\"Length of age set:\", len(age_set))\n"
      ],
      "metadata": {
        "colab": {
          "base_uri": "https://localhost:8080/"
        },
        "id": "aMaQmogz_8re",
        "outputId": "3cb1b4c3-7440-40e1-b137-8da7b2352501"
      },
      "execution_count": 36,
      "outputs": [
        {
          "output_type": "stream",
          "name": "stdout",
          "text": [
            "Length of it_companies: 7\n",
            "Remove will raise an error if the element is not present, while discard won't raise any error.\n",
            "Union of A and B: {19, 20, 22, 24, 25, 26, 27, 28}\n",
            "Intersection of A and B: {19, 20, 22, 24, 25, 26}\n",
            "Is A a subset of B? True\n",
            "Are A and B disjoint sets? False\n",
            "Join A with B: {19, 20, 22, 24, 25, 26, 27, 28}\n",
            "Join B with A: {19, 20, 22, 24, 25, 26, 27, 28}\n",
            "Symmetric difference between A and B: {27, 28}\n",
            "Length of age list: 8\n",
            "Length of age set: 5\n"
          ]
        }
      ]
    },
    {
      "cell_type": "markdown",
      "source": [
        "Question 5\n",
        "\n",
        "The radius of a circle is 30 meters.\n",
        "\n",
        "• Calculate the area of a circle and assign the value to a variable name of _area_of_circle_\n",
        "\n",
        "• Calculate the circumference of a circle and assign the value to a variable name of\n",
        "_circum_of_circle_\n",
        "\n",
        "• Take radius as user input and calculate the area."
      ],
      "metadata": {
        "id": "bH0Vgq4WFekO"
      }
    },
    {
      "cell_type": "code",
      "source": [
        "import math\n",
        "\n",
        "# Given radius\n",
        "radius = 30\n",
        "\n",
        "# Calculating area of the circle\n",
        "area_of_circle = math.pi * radius ** 2\n",
        "\n",
        "# Calculating circumference of the circle\n",
        "circum_of_circle = 2 * math.pi * radius\n",
        "\n",
        "# Print the results\n",
        "print(\"Area of the circle:\", area_of_circle)\n",
        "print(\"Circumference of the circle:\", circum_of_circle)\n",
        "\n",
        "# Taking radius as user input\n",
        "user_radius = float(input(\"Enter the radius of the circle: \"))\n",
        "\n",
        "# Calculating area with user input radius\n",
        "user_area_of_circle = math.pi * user_radius ** 2\n",
        "\n",
        "# Print the result\n",
        "print(\"Area of the circle with radius\", user_radius, \"is:\", user_area_of_circle)\n"
      ],
      "metadata": {
        "colab": {
          "base_uri": "https://localhost:8080/"
        },
        "id": "M9Niu1Q4Fn2f",
        "outputId": "60c47e9e-738e-42e1-8447-7ea7194bbd6c"
      },
      "execution_count": 38,
      "outputs": [
        {
          "output_type": "stream",
          "name": "stdout",
          "text": [
            "Area of the circle: 2827.4333882308138\n",
            "Circumference of the circle: 188.49555921538757\n",
            "Enter the radius of the circle: 22\n",
            "Area of the circle with radius 22.0 is: 1520.53084433746\n"
          ]
        }
      ]
    },
    {
      "cell_type": "code",
      "source": [],
      "metadata": {
        "id": "gJEwROzLX4D3"
      },
      "execution_count": null,
      "outputs": []
    },
    {
      "cell_type": "markdown",
      "source": [
        "Question 6\n",
        "\n",
        "“I am a teacher and I love to inspire and teach people”\n",
        "\n",
        "• How many unique words have been used in the sentence? Use the split methods and set to get the unique words."
      ],
      "metadata": {
        "id": "B_XCKrjbGFgm"
      }
    },
    {
      "cell_type": "code",
      "source": [
        "sentence = \"I am a teacher and I love to inspire and teach people\"\n",
        "\n",
        "#number of unique words in given string\n",
        "unique_words = set(sentence.split())\n",
        "num_unique_words = len(unique_words)\n",
        "print(\"Number of unique words:\", num_unique_words)\n",
        "\n",
        "#Split function by default uses whiteSpaces as the separator in the string sentence\n",
        "list = sentence.split(' ')\n",
        "print(list)\n"
      ],
      "metadata": {
        "colab": {
          "base_uri": "https://localhost:8080/"
        },
        "id": "RMF1kDVeGLlt",
        "outputId": "8fe703a1-c1a1-48a4-9fa5-6a504c093f50"
      },
      "execution_count": 6,
      "outputs": [
        {
          "output_type": "stream",
          "name": "stdout",
          "text": [
            "Number of unique words: 10\n",
            "['I', 'am', 'a', 'teacher', 'and', 'I', 'love', 'to', 'inspire', 'and', 'teach', 'people']\n"
          ]
        }
      ]
    },
    {
      "cell_type": "markdown",
      "source": [
        "Question 7\n",
        "\n",
        "Use a tab escape sequence to get the following lines.\n",
        "\n",
        "Name Age Country City\n",
        "\n",
        "Asabeneh 250 Finland Helsinki"
      ],
      "metadata": {
        "id": "MfUI7zBwXOuZ"
      }
    },
    {
      "cell_type": "code",
      "source": [
        "# To print the text by using the tab escape sequence\n",
        "print(\"Name\\t\\tAge\\tCountry\\tCity\")\n",
        "print(\"Asabeneh\\t250\\tFinland\\tHelsinki\")\n"
      ],
      "metadata": {
        "colab": {
          "base_uri": "https://localhost:8080/"
        },
        "id": "7fzwZjfCXWIC",
        "outputId": "7477f3c7-dc67-4a80-8fff-de6444f32786"
      },
      "execution_count": 8,
      "outputs": [
        {
          "output_type": "stream",
          "name": "stdout",
          "text": [
            "Name\t\tAge\tCountry\tCity\n",
            "Asabeneh\t250\tFinland\tHelsinki\n"
          ]
        }
      ]
    },
    {
      "cell_type": "markdown",
      "source": [
        "Question 8\n",
        "\n",
        "Use the string formatting method to display the following:\n",
        "\n",
        "radius = 10\n",
        "\n",
        "area = 3.14 * radius ** 2\n",
        "\n",
        "“The area of a circle with radius 10 is 314 meters square.”\n"
      ],
      "metadata": {
        "id": "Ar_kSi_JYS8T"
      }
    },
    {
      "cell_type": "code",
      "source": [
        "# To find the radius of the circle\n",
        "radius = 10\n",
        "area = 3.14 * radius ** 2\n",
        "message = \"The area of a circle with radius {} is {} meters square.\".format(radius, int(area))\n",
        "print(message)\n"
      ],
      "metadata": {
        "colab": {
          "base_uri": "https://localhost:8080/"
        },
        "id": "AWwxND32YY38",
        "outputId": "9de0deb2-55a1-45fe-a6be-4efda9035b5e"
      },
      "execution_count": 9,
      "outputs": [
        {
          "output_type": "stream",
          "name": "stdout",
          "text": [
            "The area of a circle with radius 10 is 314 meters square.\n"
          ]
        }
      ]
    },
    {
      "cell_type": "markdown",
      "source": [
        "Question 9\n",
        "\n",
        "Write a program, which reads weights (lbs.) of N students into a list and convert these weights to kilograms in a separate list using Loop. N: No of students (Read input from user)\n",
        "\n",
        "Ex: L1: [150, 155, 145, 148]\n",
        "\n",
        "Output: [68.03, 70.3, 65.77, 67.13]"
      ],
      "metadata": {
        "id": "bM7kkSJ5YpeK"
      }
    },
    {
      "cell_type": "code",
      "source": [
        "# Function to convert pounds to kilograms\n",
        "def pounds_to_kilograms(pounds):\n",
        "    return round(pounds * 0.453592, 2)\n",
        "\n",
        "# Read the number of students\n",
        "N = int(input(\"Enter the number of students: \"))\n",
        "\n",
        "# Initialize the list to store weights in pounds\n",
        "weights_lbs = []\n",
        "\n",
        "# Read the weights in pounds\n",
        "for i in range(N):\n",
        "    weight = float(input(f\"Enter weight of student {i+1} in pounds: \"))\n",
        "    weights_lbs.append(weight)\n",
        "\n",
        "# Convert the weights to kilograms\n",
        "weights_kgs = [pounds_to_kilograms(weight) for weight in weights_lbs]\n",
        "\n",
        "# Print the weights in kilograms\n",
        "print(\"Weights in kilograms:\", weights_kgs)\n"
      ],
      "metadata": {
        "colab": {
          "base_uri": "https://localhost:8080/"
        },
        "id": "pkqbA7wWZVMS",
        "outputId": "74033b34-6923-42b0-c8a1-90e833ccb69d"
      },
      "execution_count": 11,
      "outputs": [
        {
          "output_type": "stream",
          "name": "stdout",
          "text": [
            "Enter the number of students: 2\n",
            "Enter weight of student 1 in pounds: 24\n",
            "Enter weight of student 2 in pounds: 54\n",
            "Weights in kilograms: [10.89, 24.49]\n"
          ]
        }
      ]
    }
  ]
}