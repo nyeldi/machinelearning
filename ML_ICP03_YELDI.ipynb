{
  "nbformat": 4,
  "nbformat_minor": 0,
  "metadata": {
    "colab": {
      "provenance": []
    },
    "kernelspec": {
      "name": "python3",
      "display_name": "Python 3"
    },
    "language_info": {
      "name": "python"
    }
  },
  "cells": [
    {
      "cell_type": "markdown",
      "source": [
        "a. Using NumPy create random vector of size 15 having only Integers in the Range 1-20.\n",
        "1. Reshape the array to 3 by 5\n",
        "2. Print array shape.\n",
        "3. Replace the max in each row by 0\n",
        "\n",
        "Create a 2-dimensional array of size 4 x 3 (composed of 4-byte integer elements), also print the shape, type and data type of the array."
      ],
      "metadata": {
        "id": "K4jNL9XkOY97"
      }
    },
    {
      "cell_type": "code",
      "source": [
        "import numpy as np\n",
        "\n",
        "# Random Vector and Reshaping\n",
        "# Create a random vector of size 15 with integers in the range 1 to 20\n",
        "random_vector = np.random.randint(1, 21, size=15)\n",
        "print(\"Random Vector:\\n\", random_vector)\n",
        "\n",
        "# 1. Reshape the array to 3 by 5\n",
        "reshaped_array = random_vector.reshape(3, 5)\n",
        "print(\"\\nReshaped Array (3x5):\\n\", reshaped_array)\n",
        "\n",
        "# 2. Print array shape\n",
        "print(\"\\nShape of the Reshaped Array:\", reshaped_array.shape)\n",
        "\n",
        "# 3. Replace the max in each row by 0\n",
        "for i in range(reshaped_array.shape[0]):\n",
        "    reshaped_array[i, reshaped_array[i].argmax()] = 0\n",
        "\n",
        "print(\"\\nArray after Replacing Max in Each Row by 0:\\n\", reshaped_array)\n",
        "\n",
        "# Create a 2D Array of Size 4x3 with 4-byte Integers\n",
        "# Create a 2-dimensional array of size 4x3 with 4-byte integer elements\n",
        "array_4x3 = np.zeros((4, 3), dtype=np.int32)\n",
        "\n",
        "print(\"\\n2D Array of Size 4x3:\\n\", array_4x3)\n",
        "print(\"\\nShape of the Array:\", array_4x3.shape)\n",
        "print(\"\\nType of the Array:\", type(array_4x3))\n",
        "print(\"\\nData Type of Array Elements:\", array_4x3.dtype)\n"
      ],
      "metadata": {
        "id": "kHGjfk1HPGAi",
        "colab": {
          "base_uri": "https://localhost:8080/",
          "height": 0
        },
        "outputId": "0a0cfbaa-96c2-4ff9-a82f-f4126980a89c"
      },
      "execution_count": 11,
      "outputs": [
        {
          "output_type": "stream",
          "name": "stdout",
          "text": [
            "Random Vector:\n",
            " [ 1 20 14  1 13  6 20 11 19 18  9 11  4  6 13]\n",
            "\n",
            "Reshaped Array (3x5):\n",
            " [[ 1 20 14  1 13]\n",
            " [ 6 20 11 19 18]\n",
            " [ 9 11  4  6 13]]\n",
            "\n",
            "Shape of the Reshaped Array: (3, 5)\n",
            "\n",
            "Array after Replacing Max in Each Row by 0:\n",
            " [[ 1  0 14  1 13]\n",
            " [ 6  0 11 19 18]\n",
            " [ 9 11  4  6  0]]\n",
            "\n",
            "2D Array of Size 4x3:\n",
            " [[0 0 0]\n",
            " [0 0 0]\n",
            " [0 0 0]\n",
            " [0 0 0]]\n",
            "\n",
            "Shape of the Array: (4, 3)\n",
            "\n",
            "Type of the Array: <class 'numpy.ndarray'>\n",
            "\n",
            "Data Type of Array Elements: int32\n"
          ]
        }
      ]
    },
    {
      "cell_type": "markdown",
      "source": [
        "b. Write a program to compute the eigenvalues and right eigenvectors of a given square array given below:\n",
        "\n",
        "[[ 3 -2]\n",
        "\n",
        "[1 0]]"
      ],
      "metadata": {
        "id": "MtSqqtBtPKaL"
      }
    },
    {
      "cell_type": "code",
      "source": [
        "import numpy as np\n",
        "\n",
        "# Define the matrix\n",
        "matrix = np.array([[3, -2], [1, 0]])\n",
        "\n",
        "# Compute the eigenvalues and right eigenvectors\n",
        "eigenvalues, eigenvectors = np.linalg.eig(matrix)\n",
        "\n",
        "# Print the eigenvalues and eigenvectors\n",
        "print(\"Matrix:\\n\", matrix)\n",
        "print(\"\\nEigenvalues:\\n\", eigenvalues)\n",
        "print(\"\\nRight Eigenvectors:\\n\", eigenvectors)"
      ],
      "metadata": {
        "id": "hx4SjAUmPp3c",
        "colab": {
          "base_uri": "https://localhost:8080/",
          "height": 0
        },
        "outputId": "bb3c6d91-42ba-4671-b133-985a53d74adf"
      },
      "execution_count": 2,
      "outputs": [
        {
          "output_type": "stream",
          "name": "stdout",
          "text": [
            "Matrix:\n",
            " [[ 3 -2]\n",
            " [ 1  0]]\n",
            "\n",
            "Eigenvalues:\n",
            " [2. 1.]\n",
            "\n",
            "Right Eigenvectors:\n",
            " [[0.89442719 0.70710678]\n",
            " [0.4472136  0.70710678]]\n"
          ]
        }
      ]
    },
    {
      "cell_type": "markdown",
      "source": [
        "c. Compute the sum of the diagonal element of a given array.\n",
        "\n",
        "[[0 1 2]\n",
        "\n",
        "[3 4 5]]"
      ],
      "metadata": {
        "id": "_7D-H6KZPv78"
      }
    },
    {
      "cell_type": "code",
      "source": [
        "import numpy as np\n",
        "\n",
        "# Define the array\n",
        "array = np.array([[0, 1, 2],\n",
        "                  [3, 4, 5]])\n",
        "\n",
        "# Compute the sum of diagonal elements\n",
        "diagonal_sum = np.trace(array)\n",
        "\n",
        "# Print the array and sum\n",
        "print(\"Array:\\n\", array)\n",
        "print(\"\\nSum of diagonal elements:\", diagonal_sum)\n"
      ],
      "metadata": {
        "id": "Ox7RiKy4P2uQ",
        "colab": {
          "base_uri": "https://localhost:8080/",
          "height": 0
        },
        "outputId": "cac545ea-3f0f-4746-b241-0530aa985fdd"
      },
      "execution_count": 9,
      "outputs": [
        {
          "output_type": "stream",
          "name": "stdout",
          "text": [
            "Array:\n",
            " [[0 1 2]\n",
            " [3 4 5]]\n",
            "\n",
            "Sum of diagonal elements: 4\n"
          ]
        }
      ]
    },
    {
      "cell_type": "markdown",
      "source": [
        "d. Write a NumPy program to create a new shape to an array without changing its data.\n",
        "\n",
        "Reshape 3x2:\n",
        "\n",
        "[[1 2]\n",
        "\n",
        "[3 4]\n",
        "\n",
        "[5 6]\n",
        "\n",
        "Reshape 2x3:\n",
        "\n",
        "[[1 2 3]\n",
        "\n",
        "[4 5 6]]"
      ],
      "metadata": {
        "id": "TwaeHF8eP70o"
      }
    },
    {
      "cell_type": "code",
      "source": [
        "import numpy as np\n",
        "\n",
        "# Define the arrays\n",
        "array1 = np.array([[1, 2],\n",
        "                   [3, 4],\n",
        "                   [5, 6]])\n",
        "\n",
        "array2 = np.array([[1, 2, 3],\n",
        "                   [4, 5, 6]])\n",
        "\n",
        "# Reshape array1 to 3x2\n",
        "reshaped_array1 = array1.reshape(3, 2)\n",
        "\n",
        "# Reshape array2 to 2x3\n",
        "reshaped_array2 = array2.reshape(2, 3)\n",
        "\n",
        "# Print the reshaped arrays\n",
        "print(\"Reshaped array1 (3x2):\")\n",
        "print(reshaped_array1)\n",
        "\n",
        "print(\"\\nReshaped array2 (2x3):\")\n",
        "print(reshaped_array2)\n"
      ],
      "metadata": {
        "id": "zOFyyD86P_cj",
        "colab": {
          "base_uri": "https://localhost:8080/",
          "height": 0
        },
        "outputId": "39c5ebc7-e9c5-4f81-b76c-897f17d06979"
      },
      "execution_count": 12,
      "outputs": [
        {
          "output_type": "stream",
          "name": "stdout",
          "text": [
            "Reshaped array1 (3x2):\n",
            "[[1 2]\n",
            " [3 4]\n",
            " [5 6]]\n",
            "\n",
            "Reshaped array2 (2x3):\n",
            "[[1 2 3]\n",
            " [4 5 6]]\n"
          ]
        }
      ]
    }
  ]
}